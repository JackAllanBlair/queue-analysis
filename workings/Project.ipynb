{
 "cells": [
  {
   "cell_type": "code",
   "execution_count": 2,
   "id": "0374c07a",
   "metadata": {},
   "outputs": [],
   "source": [
    "import pandas as pd\n",
    "import numpy as np\n",
    "from sklearn.model_selection import train_test_split\n",
    "from sklearn.impute import SimpleImputer\n",
    "from sklearn.preprocessing import OrdinalEncoder, OneHotEncoder, MinMaxScaler, StandardScaler\n",
    "from sklearn.compose import ColumnTransformer\n",
    "from sklearn.pipeline import Pipeline\n",
    "from sklearn.neighbors import KNeighborsClassifier\n",
    "from sklearn.svm import SVC\n",
    "from sklearn.ensemble import RandomForestClassifier\n",
    "from sklearn.model_selection import RepeatedStratifiedKFold, cross_val_score\n",
    "import seaborn as sns\n",
    "%matplotlib inline\n",
    "import matplotlib as mpl\n",
    "import matplotlib.pyplot as plt"
   ]
  },
  {
   "cell_type": "code",
   "execution_count": 211,
   "id": "d8028fd4",
   "metadata": {},
   "outputs": [
    {
     "data": {
      "text/plain": [
       "(5604, 19)"
      ]
     },
     "execution_count": 211,
     "metadata": {},
     "output_type": "execute_result"
    }
   ],
   "source": [
    "data = pd.read_csv(\"LiverDamage_NHANES.csv\")\n",
    "data = data.drop(\"SEQN\", axis=1)\n",
    "\n",
    "y = data[\"LiverDamage\"]\n",
    "X = data.drop(\"LiverDamage\", axis=1)\n",
    "\n",
    "X_train, X_test, y_train, y_test = train_test_split(X, y, test_size=0.30, random_state=42)\n",
    "X_train.shape"
   ]
  },
  {
   "cell_type": "code",
   "execution_count": 84,
   "id": "d203e2a8",
   "metadata": {},
   "outputs": [
    {
     "name": "stdout",
     "output_type": "stream",
     "text": [
      "0.9423618898942273 0.004141098016484265\n"
     ]
    }
   ],
   "source": [
    "\n",
    "num_pipeline = Pipeline([(\"imputer\", SimpleImputer(strategy=\"median\")),\n",
    "                         (\"scaler\", StandardScaler())])\n",
    "cat_pipeline = Pipeline([(\"imputer\", SimpleImputer(strategy=\"most_frequent\"))])\n",
    "num_attribs = [\"LBXSATSI\", \"Age\", \"ReadyMeals\", \"FrozenMeals\", \"AvgAlc12Month\", \"MinSedentary\"]\n",
    "cat_attribs = [\"Gender\", \"CountryOB\", \"DietHealth\", \"MilkConumption\", \"Cigs100\", \"DrinkEveryday\", \"VigWork\", \"ModWork\", \"TravelBikeWalk\", \"VigRec\", \"ModRec\", \"YEARS\"]\n",
    "\n",
    "col_transform = ColumnTransformer([(\"num\", num_pipeline, num_attribs),\n",
    "                                   (\"cat\", cat_pipeline, cat_attribs)])\n",
    "\n",
    "k_folds = RepeatedStratifiedKFold(n_splits=5, n_repeats=3, random_state=0)\n",
    "knn_model = Pipeline([(\"transformer\", col_transform),\n",
    "                      (\"classifier\", KNeighborsClassifier())])\n",
    "knn_scores = cross_val_score(knn_model, X_train, y_train, cv=k_folds)\n",
    "print(knn_scores.mean(), knn_scores.std())\n"
   ]
  },
  {
   "cell_type": "code",
   "execution_count": 85,
   "id": "d3edc728",
   "metadata": {},
   "outputs": [],
   "source": [
    "from sklearn.model_selection import GridSearchCV\n",
    "\n",
    "knn_param_grid = {\"classifier__n_neighbors\": np.arange(1, 10),\n",
    "                  \"classifier__weights\": [\"uniform\", \"distance\"]}\n",
    "\n",
    "knn_grid_cv = GridSearchCV(knn_model, knn_param_grid, scoring=\"accuracy\", n_jobs=-1, cv=k_folds)"
   ]
  },
  {
   "cell_type": "code",
   "execution_count": 86,
   "id": "3a89f02b",
   "metadata": {},
   "outputs": [
    {
     "name": "stdout",
     "output_type": "stream",
     "text": [
      "CPU times: total: 1.5 s\n",
      "Wall time: 5.9 s\n"
     ]
    },
    {
     "data": {
      "text/plain": [
       "GridSearchCV(cv=RepeatedStratifiedKFold(n_repeats=3, n_splits=5, random_state=0),\n",
       "             estimator=Pipeline(steps=[('transformer',\n",
       "                                        ColumnTransformer(transformers=[('num',\n",
       "                                                                         Pipeline(steps=[('imputer',\n",
       "                                                                                          SimpleImputer(strategy='median')),\n",
       "                                                                                         ('scaler',\n",
       "                                                                                          StandardScaler())]),\n",
       "                                                                         ['LBXSATSI',\n",
       "                                                                          'Age',\n",
       "                                                                          'ReadyMeals',\n",
       "                                                                          'FrozenMeals',\n",
       "                                                                          'AvgAlc12Month',\n",
       "                                                                          'MinSedentary']),\n",
       "                                                                        ('cat',\n",
       "                                                                         Pipeline(steps=...\n",
       "                                                                                          SimpleImputer(strategy='most_frequent'))]),\n",
       "                                                                         ['Gender',\n",
       "                                                                          'CountryOB',\n",
       "                                                                          'DietHealth',\n",
       "                                                                          'MilkConumption',\n",
       "                                                                          'Cigs100',\n",
       "                                                                          'DrinkEveryday',\n",
       "                                                                          'VigWork',\n",
       "                                                                          'ModWork',\n",
       "                                                                          'TravelBikeWalk',\n",
       "                                                                          'VigRec',\n",
       "                                                                          'ModRec',\n",
       "                                                                          'YEARS'])])),\n",
       "                                       ('classifier', KNeighborsClassifier())]),\n",
       "             n_jobs=-1,\n",
       "             param_grid={'classifier__n_neighbors': array([1, 2, 3, 4, 5, 6, 7, 8, 9]),\n",
       "                         'classifier__weights': ['uniform', 'distance']},\n",
       "             scoring='accuracy')"
      ]
     },
     "execution_count": 86,
     "metadata": {},
     "output_type": "execute_result"
    }
   ],
   "source": [
    "%%time\n",
    "knn_grid_cv.fit(X_train, y_train);"
   ]
  },
  {
   "cell_type": "code",
   "execution_count": 100,
   "id": "6fa7ff9a",
   "metadata": {},
   "outputs": [
    {
     "data": {
      "text/plain": [
       "0.9408825978351374"
      ]
     },
     "execution_count": 100,
     "metadata": {},
     "output_type": "execute_result"
    }
   ],
   "source": [
    "from sklearn.metrics import accuracy_score\n",
    "\n",
    "knn_model.fit(X_train, y_train)\n",
    "y_test_predicted = knn_model.predict(X_test)\n",
    "accuracy_score(y_test, y_test_predicted)"
   ]
  },
  {
   "cell_type": "code",
   "execution_count": 88,
   "id": "4a8cb9a4",
   "metadata": {},
   "outputs": [
    {
     "data": {
      "text/plain": [
       "{'classifier__n_neighbors': 6, 'classifier__weights': 'distance'}"
      ]
     },
     "execution_count": 88,
     "metadata": {},
     "output_type": "execute_result"
    }
   ],
   "source": [
    "knn_grid_cv.best_params_"
   ]
  },
  {
   "cell_type": "code",
   "execution_count": 89,
   "id": "3bd702d2",
   "metadata": {},
   "outputs": [
    {
     "data": {
      "text/plain": [
       "0.9435513041077269"
      ]
     },
     "execution_count": 89,
     "metadata": {},
     "output_type": "execute_result"
    }
   ],
   "source": [
    "knn_grid_cv.best_score_"
   ]
  },
  {
   "cell_type": "code",
   "execution_count": 90,
   "id": "4e8c0591",
   "metadata": {},
   "outputs": [
    {
     "data": {
      "text/html": [
       "<div>\n",
       "<style scoped>\n",
       "    .dataframe tbody tr th:only-of-type {\n",
       "        vertical-align: middle;\n",
       "    }\n",
       "\n",
       "    .dataframe tbody tr th {\n",
       "        vertical-align: top;\n",
       "    }\n",
       "\n",
       "    .dataframe thead th {\n",
       "        text-align: right;\n",
       "    }\n",
       "</style>\n",
       "<table border=\"1\" class=\"dataframe\">\n",
       "  <thead>\n",
       "    <tr style=\"text-align: right;\">\n",
       "      <th></th>\n",
       "      <th>mean_fit_time</th>\n",
       "      <th>std_fit_time</th>\n",
       "      <th>mean_score_time</th>\n",
       "      <th>std_score_time</th>\n",
       "      <th>param_classifier__n_neighbors</th>\n",
       "      <th>param_classifier__weights</th>\n",
       "      <th>params</th>\n",
       "      <th>split0_test_score</th>\n",
       "      <th>split1_test_score</th>\n",
       "      <th>split2_test_score</th>\n",
       "      <th>...</th>\n",
       "      <th>split8_test_score</th>\n",
       "      <th>split9_test_score</th>\n",
       "      <th>split10_test_score</th>\n",
       "      <th>split11_test_score</th>\n",
       "      <th>split12_test_score</th>\n",
       "      <th>split13_test_score</th>\n",
       "      <th>split14_test_score</th>\n",
       "      <th>mean_test_score</th>\n",
       "      <th>std_test_score</th>\n",
       "      <th>rank_test_score</th>\n",
       "    </tr>\n",
       "  </thead>\n",
       "  <tbody>\n",
       "    <tr>\n",
       "      <th>11</th>\n",
       "      <td>0.029400</td>\n",
       "      <td>0.002444</td>\n",
       "      <td>0.210800</td>\n",
       "      <td>0.013212</td>\n",
       "      <td>6</td>\n",
       "      <td>distance</td>\n",
       "      <td>{'classifier__n_neighbors': 6, 'classifier__we...</td>\n",
       "      <td>0.949153</td>\n",
       "      <td>0.943800</td>\n",
       "      <td>0.946476</td>\n",
       "      <td>...</td>\n",
       "      <td>0.949153</td>\n",
       "      <td>0.940179</td>\n",
       "      <td>0.943800</td>\n",
       "      <td>0.939340</td>\n",
       "      <td>0.944692</td>\n",
       "      <td>0.952721</td>\n",
       "      <td>0.934821</td>\n",
       "      <td>0.943551</td>\n",
       "      <td>0.004859</td>\n",
       "      <td>1</td>\n",
       "    </tr>\n",
       "    <tr>\n",
       "      <th>7</th>\n",
       "      <td>0.029533</td>\n",
       "      <td>0.003481</td>\n",
       "      <td>0.212914</td>\n",
       "      <td>0.012490</td>\n",
       "      <td>4</td>\n",
       "      <td>distance</td>\n",
       "      <td>{'classifier__n_neighbors': 4, 'classifier__we...</td>\n",
       "      <td>0.946476</td>\n",
       "      <td>0.942908</td>\n",
       "      <td>0.943800</td>\n",
       "      <td>...</td>\n",
       "      <td>0.944692</td>\n",
       "      <td>0.946429</td>\n",
       "      <td>0.950045</td>\n",
       "      <td>0.935772</td>\n",
       "      <td>0.941124</td>\n",
       "      <td>0.949153</td>\n",
       "      <td>0.938393</td>\n",
       "      <td>0.943136</td>\n",
       "      <td>0.004353</td>\n",
       "      <td>2</td>\n",
       "    </tr>\n",
       "    <tr>\n",
       "      <th>5</th>\n",
       "      <td>0.029600</td>\n",
       "      <td>0.002444</td>\n",
       "      <td>0.207067</td>\n",
       "      <td>0.015308</td>\n",
       "      <td>3</td>\n",
       "      <td>distance</td>\n",
       "      <td>{'classifier__n_neighbors': 3, 'classifier__we...</td>\n",
       "      <td>0.948260</td>\n",
       "      <td>0.944692</td>\n",
       "      <td>0.939340</td>\n",
       "      <td>...</td>\n",
       "      <td>0.942908</td>\n",
       "      <td>0.946429</td>\n",
       "      <td>0.947368</td>\n",
       "      <td>0.937556</td>\n",
       "      <td>0.941124</td>\n",
       "      <td>0.946476</td>\n",
       "      <td>0.938393</td>\n",
       "      <td>0.942600</td>\n",
       "      <td>0.004221</td>\n",
       "      <td>3</td>\n",
       "    </tr>\n",
       "    <tr>\n",
       "      <th>4</th>\n",
       "      <td>0.033807</td>\n",
       "      <td>0.007313</td>\n",
       "      <td>0.221768</td>\n",
       "      <td>0.015459</td>\n",
       "      <td>3</td>\n",
       "      <td>uniform</td>\n",
       "      <td>{'classifier__n_neighbors': 3, 'classifier__we...</td>\n",
       "      <td>0.948260</td>\n",
       "      <td>0.943800</td>\n",
       "      <td>0.939340</td>\n",
       "      <td>...</td>\n",
       "      <td>0.942016</td>\n",
       "      <td>0.946429</td>\n",
       "      <td>0.947368</td>\n",
       "      <td>0.937556</td>\n",
       "      <td>0.942016</td>\n",
       "      <td>0.945584</td>\n",
       "      <td>0.938393</td>\n",
       "      <td>0.942362</td>\n",
       "      <td>0.004134</td>\n",
       "      <td>4</td>\n",
       "    </tr>\n",
       "    <tr>\n",
       "      <th>8</th>\n",
       "      <td>0.030667</td>\n",
       "      <td>0.005250</td>\n",
       "      <td>0.224968</td>\n",
       "      <td>0.016075</td>\n",
       "      <td>5</td>\n",
       "      <td>uniform</td>\n",
       "      <td>{'classifier__n_neighbors': 5, 'classifier__we...</td>\n",
       "      <td>0.948260</td>\n",
       "      <td>0.943800</td>\n",
       "      <td>0.946476</td>\n",
       "      <td>...</td>\n",
       "      <td>0.944692</td>\n",
       "      <td>0.940179</td>\n",
       "      <td>0.943800</td>\n",
       "      <td>0.937556</td>\n",
       "      <td>0.941124</td>\n",
       "      <td>0.950045</td>\n",
       "      <td>0.937500</td>\n",
       "      <td>0.942362</td>\n",
       "      <td>0.004141</td>\n",
       "      <td>5</td>\n",
       "    </tr>\n",
       "  </tbody>\n",
       "</table>\n",
       "<p>5 rows × 25 columns</p>\n",
       "</div>"
      ],
      "text/plain": [
       "    mean_fit_time  std_fit_time  mean_score_time  std_score_time  \\\n",
       "11       0.029400      0.002444         0.210800        0.013212   \n",
       "7        0.029533      0.003481         0.212914        0.012490   \n",
       "5        0.029600      0.002444         0.207067        0.015308   \n",
       "4        0.033807      0.007313         0.221768        0.015459   \n",
       "8        0.030667      0.005250         0.224968        0.016075   \n",
       "\n",
       "   param_classifier__n_neighbors param_classifier__weights  \\\n",
       "11                             6                  distance   \n",
       "7                              4                  distance   \n",
       "5                              3                  distance   \n",
       "4                              3                   uniform   \n",
       "8                              5                   uniform   \n",
       "\n",
       "                                               params  split0_test_score  \\\n",
       "11  {'classifier__n_neighbors': 6, 'classifier__we...           0.949153   \n",
       "7   {'classifier__n_neighbors': 4, 'classifier__we...           0.946476   \n",
       "5   {'classifier__n_neighbors': 3, 'classifier__we...           0.948260   \n",
       "4   {'classifier__n_neighbors': 3, 'classifier__we...           0.948260   \n",
       "8   {'classifier__n_neighbors': 5, 'classifier__we...           0.948260   \n",
       "\n",
       "    split1_test_score  split2_test_score  ...  split8_test_score  \\\n",
       "11           0.943800           0.946476  ...           0.949153   \n",
       "7            0.942908           0.943800  ...           0.944692   \n",
       "5            0.944692           0.939340  ...           0.942908   \n",
       "4            0.943800           0.939340  ...           0.942016   \n",
       "8            0.943800           0.946476  ...           0.944692   \n",
       "\n",
       "    split9_test_score  split10_test_score  split11_test_score  \\\n",
       "11           0.940179            0.943800            0.939340   \n",
       "7            0.946429            0.950045            0.935772   \n",
       "5            0.946429            0.947368            0.937556   \n",
       "4            0.946429            0.947368            0.937556   \n",
       "8            0.940179            0.943800            0.937556   \n",
       "\n",
       "    split12_test_score  split13_test_score  split14_test_score  \\\n",
       "11            0.944692            0.952721            0.934821   \n",
       "7             0.941124            0.949153            0.938393   \n",
       "5             0.941124            0.946476            0.938393   \n",
       "4             0.942016            0.945584            0.938393   \n",
       "8             0.941124            0.950045            0.937500   \n",
       "\n",
       "    mean_test_score  std_test_score  rank_test_score  \n",
       "11         0.943551        0.004859                1  \n",
       "7          0.943136        0.004353                2  \n",
       "5          0.942600        0.004221                3  \n",
       "4          0.942362        0.004134                4  \n",
       "8          0.942362        0.004141                5  \n",
       "\n",
       "[5 rows x 25 columns]"
      ]
     },
     "execution_count": 90,
     "metadata": {},
     "output_type": "execute_result"
    }
   ],
   "source": [
    "cv_results = pd.DataFrame(knn_grid_cv.cv_results_).sort_values(\"mean_test_score\", ascending=False)\n",
    "cv_results.head()"
   ]
  },
  {
   "cell_type": "code",
   "execution_count": 91,
   "id": "a049a2e4",
   "metadata": {
    "scrolled": false
   },
   "outputs": [
    {
     "data": {
      "text/html": [
       "<div>\n",
       "<style scoped>\n",
       "    .dataframe tbody tr th:only-of-type {\n",
       "        vertical-align: middle;\n",
       "    }\n",
       "\n",
       "    .dataframe tbody tr th {\n",
       "        vertical-align: top;\n",
       "    }\n",
       "\n",
       "    .dataframe thead th {\n",
       "        text-align: right;\n",
       "    }\n",
       "</style>\n",
       "<table border=\"1\" class=\"dataframe\">\n",
       "  <thead>\n",
       "    <tr style=\"text-align: right;\">\n",
       "      <th>param_classifier__weights</th>\n",
       "      <th>distance</th>\n",
       "      <th>uniform</th>\n",
       "    </tr>\n",
       "    <tr>\n",
       "      <th>param_classifier__n_neighbors</th>\n",
       "      <th></th>\n",
       "      <th></th>\n",
       "    </tr>\n",
       "  </thead>\n",
       "  <tbody>\n",
       "    <tr>\n",
       "      <th>1</th>\n",
       "      <td>0.936414</td>\n",
       "      <td>0.936414</td>\n",
       "    </tr>\n",
       "    <tr>\n",
       "      <th>2</th>\n",
       "      <td>0.936414</td>\n",
       "      <td>0.933678</td>\n",
       "    </tr>\n",
       "    <tr>\n",
       "      <th>3</th>\n",
       "      <td>0.942600</td>\n",
       "      <td>0.942362</td>\n",
       "    </tr>\n",
       "    <tr>\n",
       "      <th>4</th>\n",
       "      <td>0.943136</td>\n",
       "      <td>0.935522</td>\n",
       "    </tr>\n",
       "    <tr>\n",
       "      <th>5</th>\n",
       "      <td>0.942243</td>\n",
       "      <td>0.942362</td>\n",
       "    </tr>\n",
       "    <tr>\n",
       "      <th>6</th>\n",
       "      <td>0.943551</td>\n",
       "      <td>0.935403</td>\n",
       "    </tr>\n",
       "    <tr>\n",
       "      <th>7</th>\n",
       "      <td>0.939745</td>\n",
       "      <td>0.939686</td>\n",
       "    </tr>\n",
       "    <tr>\n",
       "      <th>8</th>\n",
       "      <td>0.940994</td>\n",
       "      <td>0.935046</td>\n",
       "    </tr>\n",
       "    <tr>\n",
       "      <th>9</th>\n",
       "      <td>0.938139</td>\n",
       "      <td>0.938139</td>\n",
       "    </tr>\n",
       "  </tbody>\n",
       "</table>\n",
       "</div>"
      ],
      "text/plain": [
       "param_classifier__weights      distance   uniform\n",
       "param_classifier__n_neighbors                    \n",
       "1                              0.936414  0.936414\n",
       "2                              0.936414  0.933678\n",
       "3                              0.942600  0.942362\n",
       "4                              0.943136  0.935522\n",
       "5                              0.942243  0.942362\n",
       "6                              0.943551  0.935403\n",
       "7                              0.939745  0.939686\n",
       "8                              0.940994  0.935046\n",
       "9                              0.938139  0.938139"
      ]
     },
     "execution_count": 91,
     "metadata": {},
     "output_type": "execute_result"
    }
   ],
   "source": [
    "pivoted_cv_results = cv_results.pivot_table(values=\"mean_test_score\",\n",
    "                                            index=[\"param_classifier__n_neighbors\"],\n",
    "                                            columns=[\"param_classifier__weights\"])\n",
    "pivoted_cv_results"
   ]
  },
  {
   "cell_type": "code",
   "execution_count": 97,
   "id": "2786f311",
   "metadata": {
    "scrolled": false
   },
   "outputs": [
    {
     "data": {
      "image/png": "[encoded data removed]",
      "text/plain": [
       "<Figure size 432x288 with 2 Axes>"
      ]
     },
     "metadata": {
      "needs_background": "light"
     },
     "output_type": "display_data"
    }
   ],
   "source": [
    "ax = sns.heatmap(pivoted_cv_results, annot=True, fmt=\".4f\", cmap=\"YlGnBu\", vmin=0.93, vmax=0.9436)\n",
    "ax.invert_yaxis()"
   ]
  },
  {
   "cell_type": "code",
   "execution_count": 140,
   "id": "9bdb068d",
   "metadata": {},
   "outputs": [],
   "source": [
    "from sklearn.base import BaseEstimator, TransformerMixin\n",
    "\n",
    "# corresponding index in the list of numerical columns (num_attribs) passed to ColumnTransformer\n",
    "sibsp_ix, parch_ix = 1, 2\n",
    "\n",
    "\n",
    "class CombinedAttributesAdder(BaseEstimator, TransformerMixin):\n",
    "    def __init__(self, add_family_info = True):\n",
    "        self.add_family_info = add_family_info\n",
    "        \n",
    "    def fit(self, X, y=None):\n",
    "        return self\n",
    "    \n",
    "    def transform(self, X):\n",
    "        if self.add_family_info:\n",
    "            family_size = X[:, sibsp_ix] + X[:, parch_ix] + 1\n",
    "            alone = [1 if i==1 else 0 for i in family_size]\n",
    "            return np.c_[X, family_size, alone]\n",
    "        else:\n",
    "            return np.c_[X]"
   ]
  },
  {
   "cell_type": "code",
   "execution_count": 141,
   "id": "3ea7fe9d",
   "metadata": {},
   "outputs": [],
   "source": [
    "num_pipeline = Pipeline([(\"imputer\", SimpleImputer(strategy=\"median\")),\n",
    "                         ('attribs_adder', CombinedAttributesAdder()),\n",
    "                         (\"scaler\", StandardScaler())\n",
    "                        ])\n",
    "\n",
    "cat_pipeline = Pipeline([(\"imputer\", SimpleImputer(strategy=\"most_frequent\"))])\n",
    "\n",
    "col_transform = ColumnTransformer([(\"num\", num_pipeline, num_attribs),\n",
    "                                   (\"cat\", cat_pipeline, cat_attribs)])"
   ]
  },
  {
   "cell_type": "code",
   "execution_count": 142,
   "id": "041b6fb8",
   "metadata": {},
   "outputs": [],
   "source": [
    "fs_k_best = Pipeline([(\"transformer\", col_transform),\n",
    "                      (\"selector\", SelectKBest(f_classif, k=6))\n",
    "                     ])"
   ]
  },
  {
   "cell_type": "code",
   "execution_count": 143,
   "id": "9996df4f",
   "metadata": {
    "scrolled": false
   },
   "outputs": [
    {
     "name": "stderr",
     "output_type": "stream",
     "text": [
      "C:\\Users\\jacko\\anaconda3\\lib\\site-packages\\sklearn\\feature_selection\\_univariate_selection.py:112: UserWarning: Features [7] are constant.\n",
      "  warnings.warn(\"Features %s are constant.\" % constant_features_idx, UserWarning)\n",
      "C:\\Users\\jacko\\anaconda3\\lib\\site-packages\\sklearn\\feature_selection\\_univariate_selection.py:113: RuntimeWarning: invalid value encountered in true_divide\n",
      "  f = msb / msw\n"
     ]
    },
    {
     "data": {
      "text/plain": [
       "Pipeline(steps=[('transformer',\n",
       "                 ColumnTransformer(transformers=[('num',\n",
       "                                                  Pipeline(steps=[('imputer',\n",
       "                                                                   SimpleImputer(strategy='median')),\n",
       "                                                                  ('attribs_adder',\n",
       "                                                                   CombinedAttributesAdder()),\n",
       "                                                                  ('scaler',\n",
       "                                                                   StandardScaler())]),\n",
       "                                                  ['LBXSATSI', 'Age',\n",
       "                                                   'ReadyMeals', 'FrozenMeals',\n",
       "                                                   'AvgAlc12Month',\n",
       "                                                   'MinSedentary']),\n",
       "                                                 ('cat',\n",
       "                                                  Pipeline(steps=[('imputer',\n",
       "                                                                   SimpleImputer(strategy='most_frequent'))]),\n",
       "                                                  ['Gender', 'CountryOB',\n",
       "                                                   'DietHealth',\n",
       "                                                   'MilkConumption', 'Cigs100',\n",
       "                                                   'DrinkEveryday', 'VigWork',\n",
       "                                                   'ModWork', 'TravelBikeWalk',\n",
       "                                                   'VigRec', 'ModRec',\n",
       "                                                   'YEARS'])])),\n",
       "                ('selector', SelectKBest(k=6))])"
      ]
     },
     "execution_count": 143,
     "metadata": {},
     "output_type": "execute_result"
    }
   ],
   "source": [
    "fs_k_best.fit(X_train, y_train)"
   ]
  },
  {
   "cell_type": "code",
   "execution_count": 144,
   "id": "9dd6fbb2",
   "metadata": {},
   "outputs": [
    {
     "data": {
      "text/plain": [
       "array([ True,  True, False, False,  True, False,  True, False, False,\n",
       "        True,  True, False, False, False, False, False, False, False,\n",
       "       False, False])"
      ]
     },
     "execution_count": 144,
     "metadata": {},
     "output_type": "execute_result"
    }
   ],
   "source": [
    "fs_k_best[-1].get_support()"
   ]
  },
  {
   "cell_type": "code",
   "execution_count": 145,
   "id": "7f9c671b",
   "metadata": {},
   "outputs": [
    {
     "data": {
      "text/plain": [
       "array([0.00000000e+00, 1.92581928e-06, 9.04954079e-01, 7.65993521e-01,\n",
       "       2.54827727e-06, 5.65649620e-01, 6.47985848e-06,            nan,\n",
       "       5.87580042e-01, 9.18113255e-03, 1.64179733e-08, 7.89427594e-01,\n",
       "       5.80113347e-01, 1.15235693e-01, 2.68389856e-01, 4.38283499e-01,\n",
       "       6.67259486e-01, 4.18509064e-01, 4.38283499e-01, 5.28107079e-01])"
      ]
     },
     "execution_count": 145,
     "metadata": {},
     "output_type": "execute_result"
    }
   ],
   "source": [
    "fs_k_best[-1].pvalues_"
   ]
  },
  {
   "cell_type": "code",
   "execution_count": 149,
   "id": "9281cb82",
   "metadata": {},
   "outputs": [
    {
     "data": {
      "text/plain": [
       "[(0.0, 'LBXSATSI'),\n",
       " (1.6417973326653293e-08, 'AvgAlc12Month'),\n",
       " (1.9258192796109577e-06, 'Gender'),\n",
       " (2.5482772685130427e-06, 'DietHealth'),\n",
       " (6.479858481418974e-06, 'TakeoutMeals'),\n",
       " (0.009181132554248683, 'Cigs100'),\n",
       " (0.11523569279020142, 'ModWork'),\n",
       " (0.2683898561892217, 'TravelBikeWalk'),\n",
       " (0.41850906386472697, 'MinSedentary'),\n",
       " (0.4382834990757992, 'VigRec'),\n",
       " (0.4382834990757992, 'YEARS'),\n",
       " (0.5656496196767045, 'MilkConumption'),\n",
       " (0.5801133470216737, 'VigWork'),\n",
       " (0.5875800420629109, 'FrozenMeals'),\n",
       " (0.6672594856750855, 'ModRec'),\n",
       " (0.7659935210615376, 'CountryOB'),\n",
       " (0.904954079090905, 'Age'),\n",
       " (nan, 'ReadyMeals'),\n",
       " (0.7894275941322028, 'DrinkEveryday')]"
      ]
     },
     "execution_count": 149,
     "metadata": {},
     "output_type": "execute_result"
    }
   ],
   "source": [
    "cat_encoder = fs_k_best[0].named_transformers_[\"cat\"]\n",
    "cat_one_hot_attribs = []\n",
    "for i in range(len(list(X_train.columns.values))):\n",
    "    cat_one_hot_attribs += list(X_train.columns.values)[i]\n",
    "attributes = list(X_train.columns.values)\n",
    "sorted(zip(fs_k_best[-1].pvalues_, attributes), reverse=False)    "
   ]
  },
  {
   "cell_type": "code",
   "execution_count": 210,
   "id": "02871999",
   "metadata": {},
   "outputs": [
    {
     "data": {
      "text/plain": [
       "(5604, 6)"
      ]
     },
     "execution_count": 210,
     "metadata": {},
     "output_type": "execute_result"
    }
   ],
   "source": [
    "data = pd.read_csv(\"LiverDamage_NHANES.csv\")\n",
    "\n",
    "to_drop = ['ModWork',\n",
    "'TravelBikeWalk',\n",
    "'MinSedentary',\n",
    "'VigRec',\n",
    "'YEARS',\n",
    "'MilkConumption',\n",
    "'VigWork',\n",
    "'FrozenMeals',\n",
    "'ModRec',\n",
    "'CountryOB',\n",
    "'Age',\n",
    "'ReadyMeals',\n",
    "'DrinkEveryday']\n",
    "\n",
    "data = data.drop(\"SEQN\", axis=1)\n",
    "data = data.drop(to_drop, axis=1)\n",
    "\n",
    "\n",
    "y = data[\"LiverDamage\"]\n",
    "X = data.drop(\"LiverDamage\", axis=1)\n",
    "\n",
    "X_train, X_test, y_train, y_test = train_test_split(X, y, test_size=0.30, random_state=42)\n",
    "X_train.shape"
   ]
  },
  {
   "cell_type": "code",
   "execution_count": 154,
   "id": "689c67b8",
   "metadata": {},
   "outputs": [
    {
     "name": "stdout",
     "output_type": "stream",
     "text": [
      "0.9773370396329806 0.004285917303477889\n"
     ]
    }
   ],
   "source": [
    "num_pipeline = Pipeline([(\"imputer\", SimpleImputer(strategy=\"median\")),\n",
    "                         (\"scaler\", StandardScaler())])\n",
    "cat_pipeline = Pipeline([(\"imputer\", SimpleImputer(strategy=\"most_frequent\"))])\n",
    "num_attribs = [\"LBXSATSI\", \"AvgAlc12Month\", \"TakeoutMeals\"]\n",
    "cat_attribs = [\"Gender\", \"DietHealth\", \"Cigs100\"]\n",
    "\n",
    "col_transform = ColumnTransformer([(\"num\", num_pipeline, num_attribs),\n",
    "                                   (\"cat\", cat_pipeline, cat_attribs)])\n",
    "\n",
    "k_folds = RepeatedStratifiedKFold(n_splits=5, n_repeats=3, random_state=0)\n",
    "knn_model = Pipeline([(\"transformer\", col_transform),\n",
    "                      (\"classifier\", KNeighborsClassifier())])\n",
    "knn_scores = cross_val_score(knn_model, X_train, y_train, cv=k_folds)\n",
    "print(knn_scores.mean(), knn_scores.std())"
   ]
  },
  {
   "cell_type": "code",
   "execution_count": 155,
   "id": "47536bcb",
   "metadata": {},
   "outputs": [],
   "source": [
    "from sklearn.model_selection import GridSearchCV\n",
    "\n",
    "knn_param_grid = {\"classifier__n_neighbors\": np.arange(1, 10),\n",
    "                  \"classifier__weights\": [\"uniform\", \"distance\"]}\n",
    "\n",
    "knn_grid_cv = GridSearchCV(knn_model, knn_param_grid, scoring=\"accuracy\", n_jobs=-1, cv=k_folds)"
   ]
  },
  {
   "cell_type": "code",
   "execution_count": 156,
   "id": "fe3f34a2",
   "metadata": {},
   "outputs": [
    {
     "name": "stdout",
     "output_type": "stream",
     "text": [
      "CPU times: total: 422 ms\n",
      "Wall time: 3.36 s\n"
     ]
    },
    {
     "data": {
      "text/plain": [
       "GridSearchCV(cv=RepeatedStratifiedKFold(n_repeats=3, n_splits=5, random_state=0),\n",
       "             estimator=Pipeline(steps=[('transformer',\n",
       "                                        ColumnTransformer(transformers=[('num',\n",
       "                                                                         Pipeline(steps=[('imputer',\n",
       "                                                                                          SimpleImputer(strategy='median')),\n",
       "                                                                                         ('scaler',\n",
       "                                                                                          StandardScaler())]),\n",
       "                                                                         ['LBXSATSI',\n",
       "                                                                          'AvgAlc12Month',\n",
       "                                                                          'TakeoutMeals']),\n",
       "                                                                        ('cat',\n",
       "                                                                         Pipeline(steps=[('imputer',\n",
       "                                                                                          SimpleImputer(strategy='most_frequent'))]),\n",
       "                                                                         ['Gender',\n",
       "                                                                          'DietHealth',\n",
       "                                                                          'Cigs100'])])),\n",
       "                                       ('classifier', KNeighborsClassifier())]),\n",
       "             n_jobs=-1,\n",
       "             param_grid={'classifier__n_neighbors': array([1, 2, 3, 4, 5, 6, 7, 8, 9]),\n",
       "                         'classifier__weights': ['uniform', 'distance']},\n",
       "             scoring='accuracy')"
      ]
     },
     "execution_count": 156,
     "metadata": {},
     "output_type": "execute_result"
    }
   ],
   "source": [
    "%%time\n",
    "knn_grid_cv.fit(X_train, y_train);"
   ]
  },
  {
   "cell_type": "code",
   "execution_count": 157,
   "id": "859f6681",
   "metadata": {},
   "outputs": [
    {
     "data": {
      "text/plain": [
       "0.9758534554537885"
      ]
     },
     "execution_count": 157,
     "metadata": {},
     "output_type": "execute_result"
    }
   ],
   "source": [
    "from sklearn.metrics import accuracy_score\n",
    "\n",
    "knn_model.fit(X_train, y_train)\n",
    "y_test_predicted = knn_model.predict(X_test)\n",
    "accuracy_score(y_test, y_test_predicted)"
   ]
  },
  {
   "cell_type": "code",
   "execution_count": 158,
   "id": "32257c3c",
   "metadata": {},
   "outputs": [
    {
     "data": {
      "text/plain": [
       "{'classifier__n_neighbors': 4, 'classifier__weights': 'distance'}"
      ]
     },
     "execution_count": 158,
     "metadata": {},
     "output_type": "execute_result"
    }
   ],
   "source": [
    "knn_grid_cv.best_params_"
   ]
  },
  {
   "cell_type": "code",
   "execution_count": 159,
   "id": "094a3704",
   "metadata": {},
   "outputs": [
    {
     "data": {
      "text/plain": [
       "0.9801923771292637"
      ]
     },
     "execution_count": 159,
     "metadata": {},
     "output_type": "execute_result"
    }
   ],
   "source": [
    "knn_grid_cv.best_score_"
   ]
  },
  {
   "cell_type": "code",
   "execution_count": 160,
   "id": "e72bfdf3",
   "metadata": {},
   "outputs": [
    {
     "data": {
      "text/html": [
       "<div>\n",
       "<style scoped>\n",
       "    .dataframe tbody tr th:only-of-type {\n",
       "        vertical-align: middle;\n",
       "    }\n",
       "\n",
       "    .dataframe tbody tr th {\n",
       "        vertical-align: top;\n",
       "    }\n",
       "\n",
       "    .dataframe thead th {\n",
       "        text-align: right;\n",
       "    }\n",
       "</style>\n",
       "<table border=\"1\" class=\"dataframe\">\n",
       "  <thead>\n",
       "    <tr style=\"text-align: right;\">\n",
       "      <th></th>\n",
       "      <th>mean_fit_time</th>\n",
       "      <th>std_fit_time</th>\n",
       "      <th>mean_score_time</th>\n",
       "      <th>std_score_time</th>\n",
       "      <th>param_classifier__n_neighbors</th>\n",
       "      <th>param_classifier__weights</th>\n",
       "      <th>params</th>\n",
       "      <th>split0_test_score</th>\n",
       "      <th>split1_test_score</th>\n",
       "      <th>split2_test_score</th>\n",
       "      <th>...</th>\n",
       "      <th>split8_test_score</th>\n",
       "      <th>split9_test_score</th>\n",
       "      <th>split10_test_score</th>\n",
       "      <th>split11_test_score</th>\n",
       "      <th>split12_test_score</th>\n",
       "      <th>split13_test_score</th>\n",
       "      <th>split14_test_score</th>\n",
       "      <th>mean_test_score</th>\n",
       "      <th>std_test_score</th>\n",
       "      <th>rank_test_score</th>\n",
       "    </tr>\n",
       "  </thead>\n",
       "  <tbody>\n",
       "    <tr>\n",
       "      <th>7</th>\n",
       "      <td>0.016800</td>\n",
       "      <td>0.002072</td>\n",
       "      <td>0.014267</td>\n",
       "      <td>0.001611</td>\n",
       "      <td>4</td>\n",
       "      <td>distance</td>\n",
       "      <td>{'classifier__n_neighbors': 4, 'classifier__we...</td>\n",
       "      <td>0.984835</td>\n",
       "      <td>0.978591</td>\n",
       "      <td>0.979483</td>\n",
       "      <td>...</td>\n",
       "      <td>0.982159</td>\n",
       "      <td>0.975893</td>\n",
       "      <td>0.981267</td>\n",
       "      <td>0.982159</td>\n",
       "      <td>0.975914</td>\n",
       "      <td>0.984835</td>\n",
       "      <td>0.978571</td>\n",
       "      <td>0.980192</td>\n",
       "      <td>0.003804</td>\n",
       "      <td>1</td>\n",
       "    </tr>\n",
       "    <tr>\n",
       "      <th>11</th>\n",
       "      <td>0.016933</td>\n",
       "      <td>0.000998</td>\n",
       "      <td>0.018067</td>\n",
       "      <td>0.001436</td>\n",
       "      <td>6</td>\n",
       "      <td>distance</td>\n",
       "      <td>{'classifier__n_neighbors': 6, 'classifier__we...</td>\n",
       "      <td>0.984835</td>\n",
       "      <td>0.979483</td>\n",
       "      <td>0.980375</td>\n",
       "      <td>...</td>\n",
       "      <td>0.981267</td>\n",
       "      <td>0.975000</td>\n",
       "      <td>0.980375</td>\n",
       "      <td>0.981267</td>\n",
       "      <td>0.974130</td>\n",
       "      <td>0.984835</td>\n",
       "      <td>0.977679</td>\n",
       "      <td>0.979776</td>\n",
       "      <td>0.003566</td>\n",
       "      <td>2</td>\n",
       "    </tr>\n",
       "    <tr>\n",
       "      <th>5</th>\n",
       "      <td>0.016600</td>\n",
       "      <td>0.000611</td>\n",
       "      <td>0.013667</td>\n",
       "      <td>0.000943</td>\n",
       "      <td>3</td>\n",
       "      <td>distance</td>\n",
       "      <td>{'classifier__n_neighbors': 3, 'classifier__we...</td>\n",
       "      <td>0.986619</td>\n",
       "      <td>0.977698</td>\n",
       "      <td>0.975914</td>\n",
       "      <td>...</td>\n",
       "      <td>0.977698</td>\n",
       "      <td>0.977679</td>\n",
       "      <td>0.980375</td>\n",
       "      <td>0.980375</td>\n",
       "      <td>0.974130</td>\n",
       "      <td>0.984835</td>\n",
       "      <td>0.979464</td>\n",
       "      <td>0.979419</td>\n",
       "      <td>0.003749</td>\n",
       "      <td>3</td>\n",
       "    </tr>\n",
       "    <tr>\n",
       "      <th>9</th>\n",
       "      <td>0.017133</td>\n",
       "      <td>0.000806</td>\n",
       "      <td>0.016667</td>\n",
       "      <td>0.000943</td>\n",
       "      <td>5</td>\n",
       "      <td>distance</td>\n",
       "      <td>{'classifier__n_neighbors': 5, 'classifier__we...</td>\n",
       "      <td>0.984835</td>\n",
       "      <td>0.978591</td>\n",
       "      <td>0.976806</td>\n",
       "      <td>...</td>\n",
       "      <td>0.981267</td>\n",
       "      <td>0.975893</td>\n",
       "      <td>0.981267</td>\n",
       "      <td>0.980375</td>\n",
       "      <td>0.976806</td>\n",
       "      <td>0.983943</td>\n",
       "      <td>0.975893</td>\n",
       "      <td>0.978884</td>\n",
       "      <td>0.003696</td>\n",
       "      <td>4</td>\n",
       "    </tr>\n",
       "    <tr>\n",
       "      <th>13</th>\n",
       "      <td>0.017466</td>\n",
       "      <td>0.002247</td>\n",
       "      <td>0.019467</td>\n",
       "      <td>0.001586</td>\n",
       "      <td>7</td>\n",
       "      <td>distance</td>\n",
       "      <td>{'classifier__n_neighbors': 7, 'classifier__we...</td>\n",
       "      <td>0.983943</td>\n",
       "      <td>0.979483</td>\n",
       "      <td>0.973238</td>\n",
       "      <td>...</td>\n",
       "      <td>0.979483</td>\n",
       "      <td>0.974107</td>\n",
       "      <td>0.980375</td>\n",
       "      <td>0.980375</td>\n",
       "      <td>0.977698</td>\n",
       "      <td>0.982159</td>\n",
       "      <td>0.977679</td>\n",
       "      <td>0.978824</td>\n",
       "      <td>0.003299</td>\n",
       "      <td>5</td>\n",
       "    </tr>\n",
       "  </tbody>\n",
       "</table>\n",
       "<p>5 rows × 25 columns</p>\n",
       "</div>"
      ],
      "text/plain": [
       "    mean_fit_time  std_fit_time  mean_score_time  std_score_time  \\\n",
       "7        0.016800      0.002072         0.014267        0.001611   \n",
       "11       0.016933      0.000998         0.018067        0.001436   \n",
       "5        0.016600      0.000611         0.013667        0.000943   \n",
       "9        0.017133      0.000806         0.016667        0.000943   \n",
       "13       0.017466      0.002247         0.019467        0.001586   \n",
       "\n",
       "   param_classifier__n_neighbors param_classifier__weights  \\\n",
       "7                              4                  distance   \n",
       "11                             6                  distance   \n",
       "5                              3                  distance   \n",
       "9                              5                  distance   \n",
       "13                             7                  distance   \n",
       "\n",
       "                                               params  split0_test_score  \\\n",
       "7   {'classifier__n_neighbors': 4, 'classifier__we...           0.984835   \n",
       "11  {'classifier__n_neighbors': 6, 'classifier__we...           0.984835   \n",
       "5   {'classifier__n_neighbors': 3, 'classifier__we...           0.986619   \n",
       "9   {'classifier__n_neighbors': 5, 'classifier__we...           0.984835   \n",
       "13  {'classifier__n_neighbors': 7, 'classifier__we...           0.983943   \n",
       "\n",
       "    split1_test_score  split2_test_score  ...  split8_test_score  \\\n",
       "7            0.978591           0.979483  ...           0.982159   \n",
       "11           0.979483           0.980375  ...           0.981267   \n",
       "5            0.977698           0.975914  ...           0.977698   \n",
       "9            0.978591           0.976806  ...           0.981267   \n",
       "13           0.979483           0.973238  ...           0.979483   \n",
       "\n",
       "    split9_test_score  split10_test_score  split11_test_score  \\\n",
       "7            0.975893            0.981267            0.982159   \n",
       "11           0.975000            0.980375            0.981267   \n",
       "5            0.977679            0.980375            0.980375   \n",
       "9            0.975893            0.981267            0.980375   \n",
       "13           0.974107            0.980375            0.980375   \n",
       "\n",
       "    split12_test_score  split13_test_score  split14_test_score  \\\n",
       "7             0.975914            0.984835            0.978571   \n",
       "11            0.974130            0.984835            0.977679   \n",
       "5             0.974130            0.984835            0.979464   \n",
       "9             0.976806            0.983943            0.975893   \n",
       "13            0.977698            0.982159            0.977679   \n",
       "\n",
       "    mean_test_score  std_test_score  rank_test_score  \n",
       "7          0.980192        0.003804                1  \n",
       "11         0.979776        0.003566                2  \n",
       "5          0.979419        0.003749                3  \n",
       "9          0.978884        0.003696                4  \n",
       "13         0.978824        0.003299                5  \n",
       "\n",
       "[5 rows x 25 columns]"
      ]
     },
     "execution_count": 160,
     "metadata": {},
     "output_type": "execute_result"
    }
   ],
   "source": [
    "cv_results = pd.DataFrame(knn_grid_cv.cv_results_).sort_values(\"mean_test_score\", ascending=False)\n",
    "cv_results.head()"
   ]
  },
  {
   "cell_type": "code",
   "execution_count": 161,
   "id": "f25d8979",
   "metadata": {
    "scrolled": true
   },
   "outputs": [
    {
     "data": {
      "text/html": [
       "<div>\n",
       "<style scoped>\n",
       "    .dataframe tbody tr th:only-of-type {\n",
       "        vertical-align: middle;\n",
       "    }\n",
       "\n",
       "    .dataframe tbody tr th {\n",
       "        vertical-align: top;\n",
       "    }\n",
       "\n",
       "    .dataframe thead th {\n",
       "        text-align: right;\n",
       "    }\n",
       "</style>\n",
       "<table border=\"1\" class=\"dataframe\">\n",
       "  <thead>\n",
       "    <tr style=\"text-align: right;\">\n",
       "      <th>param_classifier__weights</th>\n",
       "      <th>distance</th>\n",
       "      <th>uniform</th>\n",
       "    </tr>\n",
       "    <tr>\n",
       "      <th>param_classifier__n_neighbors</th>\n",
       "      <th></th>\n",
       "      <th></th>\n",
       "    </tr>\n",
       "  </thead>\n",
       "  <tbody>\n",
       "    <tr>\n",
       "      <th>1</th>\n",
       "      <td>0.978408</td>\n",
       "      <td>0.978408</td>\n",
       "    </tr>\n",
       "    <tr>\n",
       "      <th>2</th>\n",
       "      <td>0.978349</td>\n",
       "      <td>0.972579</td>\n",
       "    </tr>\n",
       "    <tr>\n",
       "      <th>3</th>\n",
       "      <td>0.979419</td>\n",
       "      <td>0.977754</td>\n",
       "    </tr>\n",
       "    <tr>\n",
       "      <th>4</th>\n",
       "      <td>0.980192</td>\n",
       "      <td>0.972816</td>\n",
       "    </tr>\n",
       "    <tr>\n",
       "      <th>5</th>\n",
       "      <td>0.978884</td>\n",
       "      <td>0.977337</td>\n",
       "    </tr>\n",
       "    <tr>\n",
       "      <th>6</th>\n",
       "      <td>0.979776</td>\n",
       "      <td>0.972935</td>\n",
       "    </tr>\n",
       "    <tr>\n",
       "      <th>7</th>\n",
       "      <td>0.978824</td>\n",
       "      <td>0.975493</td>\n",
       "    </tr>\n",
       "    <tr>\n",
       "      <th>8</th>\n",
       "      <td>0.978051</td>\n",
       "      <td>0.970318</td>\n",
       "    </tr>\n",
       "    <tr>\n",
       "      <th>9</th>\n",
       "      <td>0.977873</td>\n",
       "      <td>0.973173</td>\n",
       "    </tr>\n",
       "  </tbody>\n",
       "</table>\n",
       "</div>"
      ],
      "text/plain": [
       "param_classifier__weights      distance   uniform\n",
       "param_classifier__n_neighbors                    \n",
       "1                              0.978408  0.978408\n",
       "2                              0.978349  0.972579\n",
       "3                              0.979419  0.977754\n",
       "4                              0.980192  0.972816\n",
       "5                              0.978884  0.977337\n",
       "6                              0.979776  0.972935\n",
       "7                              0.978824  0.975493\n",
       "8                              0.978051  0.970318\n",
       "9                              0.977873  0.973173"
      ]
     },
     "execution_count": 161,
     "metadata": {},
     "output_type": "execute_result"
    }
   ],
   "source": [
    "pivoted_cv_results = cv_results.pivot_table(values=\"mean_test_score\",\n",
    "                                            index=[\"param_classifier__n_neighbors\"],\n",
    "                                            columns=[\"param_classifier__weights\"])\n",
    "pivoted_cv_results"
   ]
  },
  {
   "cell_type": "code",
   "execution_count": 166,
   "id": "28b9993a",
   "metadata": {},
   "outputs": [
    {
     "data": {
      "image/png": "[encoded data removed]",
      "text/plain": [
       "<Figure size 432x288 with 2 Axes>"
      ]
     },
     "metadata": {
      "needs_background": "light"
     },
     "output_type": "display_data"
    }
   ],
   "source": [
    "ax = sns.heatmap(pivoted_cv_results, annot=True, fmt=\".4f\", cmap=\"YlGnBu\", vmin=0.9703, vmax=0.9802)\n",
    "ax.invert_yaxis()"
   ]
  },
  {
   "cell_type": "code",
   "execution_count": 204,
   "id": "4778afe2",
   "metadata": {},
   "outputs": [
    {
     "data": {
      "image/png": "[encoded data removed]",
      "text/plain": [
       "<Figure size 432x288 with 1 Axes>"
      ]
     },
     "metadata": {
      "needs_background": "light"
     },
     "output_type": "display_data"
    }
   ],
   "source": [
    "name = ['training data', 'testing data']\n",
    "trainD = [len(X_train), 0]\n",
    "testD = [0, len(X_test)]\n",
    "\n",
    "x_axis = np.arange(len(name))\n",
    "\n",
    "# Multi bar Chart\n",
    "\n",
    "plt.bar(x_axis -0.2, trainD, width=0.4, label = 'Train')\n",
    "plt.bar(x_axis -0.2, testD, width=0.4, label = 'Test')\n",
    "plt.xticks(x_axis, name)\n",
    "\n",
    "# Add legend\n",
    "\n",
    "plt.legend()\n",
    "\n",
    "# Display\n",
    "\n",
    "plt.show()"
   ]
  }
 ],
 "metadata": {
  "kernelspec": {
   "display_name": "Python 3 (ipykernel)",
   "language": "python",
   "name": "python3"
  },
  "language_info": {
   "codemirror_mode": {
    "name": "ipython",
    "version": 3
   },
   "file_extension": ".py",
   "mimetype": "text/x-python",
   "name": "python",
   "nbconvert_exporter": "python",
   "pygments_lexer": "ipython3",
   "version": "3.9.12"
  }
 },
 "nbformat": 4,
 "nbformat_minor": 5
}
